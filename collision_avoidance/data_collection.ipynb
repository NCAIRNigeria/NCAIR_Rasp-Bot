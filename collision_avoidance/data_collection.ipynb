{
 "cells": [
  {
   "cell_type": "code",
   "execution_count": 1,
   "metadata": {},
   "outputs": [],
   "source": [
    "import cv2\n",
    "import traitlets\n",
    "import ipywidgets.widgets as widgets\n",
    "from IPython.display import display"
   ]
  },
  {
   "cell_type": "code",
   "execution_count": 2,
   "metadata": {},
   "outputs": [],
   "source": [
    "import os\n",
    "\n",
    "blocked_dir = 'dataset/blocked'\n",
    "free_dir = 'dataset/free'\n",
    "# we have this \"try/except\" statement because these next functions can throw an error if the directories exist already\n",
    "try:\n",
    "    os.makedirs(free_dir)\n",
    "    os.makedirs(blocked_dir)\n",
    "except FileExistsError:\n",
    "    print('Directories not created because they already exist')"
   ]
  },
  {
   "cell_type": "code",
   "execution_count": 7,
   "metadata": {
    "notebookRunGroups": {
     "groupValue": "2"
    }
   },
   "outputs": [
    {
     "data": {
      "application/vnd.jupyter.widget-view+json": {
       "model_id": "2d77e753e37a4f718ea67c2a460a995c",
       "version_major": 2,
       "version_minor": 0
      },
      "text/plain": [
       "Image(value=b'', format='jpeg', height='224', width='224')"
      ]
     },
     "metadata": {},
     "output_type": "display_data"
    }
   ],
   "source": [
    "# Button layout\n",
    "button_layout = widgets.Layout(width='128px', height='64px')\n",
    "camera = cv2.VideoCapture(0)\n",
    "width, height = 224, 224\n",
    "\n",
    "# Create a widgets.Image instance for displaying the video stream\n",
    "image_widget = widgets.Image(format='jpeg', width=width, height=height)\n",
    "\n",
    "# Display the image widget\n",
    "display(image_widget)"
   ]
  },
  {
   "cell_type": "code",
   "execution_count": 8,
   "metadata": {},
   "outputs": [
    {
     "data": {
      "application/vnd.jupyter.widget-view+json": {
       "model_id": "33119bd6a38242378b12f620006cec7b",
       "version_major": 2,
       "version_minor": 0
      },
      "text/plain": [
       "HBox(children=(IntText(value=0, layout=Layout(height='64px', width='128px')), Button(button_style='success', d…"
      ]
     },
     "metadata": {},
     "output_type": "display_data"
    },
    {
     "data": {
      "application/vnd.jupyter.widget-view+json": {
       "model_id": "10a4be134c134a3b924a2aae8332b6cb",
       "version_major": 2,
       "version_minor": 0
      },
      "text/plain": [
       "HBox(children=(IntText(value=0, layout=Layout(height='64px', width='128px')), Button(button_style='danger', de…"
      ]
     },
     "metadata": {},
     "output_type": "display_data"
    }
   ],
   "source": [
    "\n",
    "# Button callbacks\n",
    "def add_free_button_clicked(b):\n",
    "    global free_count\n",
    "    # Capture an image from the camera\n",
    "    ret, frame = camera.read()\n",
    "    if ret:\n",
    "        rotated_frame = cv2.rotate(frame, cv2.ROTATE_90_CLOCKWISE)\n",
    "        rotated_frame = cv2.rotate(rotated_frame, cv2.ROTATE_90_CLOCKWISE)\n",
    "        \n",
    "        # Resize the rotated frame\n",
    "        resized_frame = cv2.resize(rotated_frame, (width, height))\n",
    "        # Save the image to the free directory\n",
    "        image_filename = os.path.join(free_dir, f'free_{free_count.value}.jpg')\n",
    "        cv2.imwrite(image_filename, resized_frame)\n",
    "        free_count.value += 1\n",
    "        update_image_widget(1)\n",
    "\n",
    "\n",
    "def add_blocked_button_clicked(b):\n",
    "    global blocked_count\n",
    "    # Capture an image from the camera\n",
    "    ret, frame = camera.read()\n",
    "    if ret:\n",
    "        rotated_frame = cv2.rotate(frame, cv2.ROTATE_90_CLOCKWISE)\n",
    "        rotated_frame = cv2.rotate(rotated_frame, cv2.ROTATE_90_CLOCKWISE)\n",
    "        \n",
    "        # Resize the rotated frame\n",
    "        resized_frame = cv2.resize(rotated_frame, (width, height))\n",
    "        # Save the image to the blocked directory\n",
    "        image_filename = os.path.join(blocked_dir, f'blocked_{blocked_count.value}.jpg')\n",
    "        cv2.imwrite(image_filename, resized_frame)\n",
    "        blocked_count.value += 1\n",
    "        update_image_widget(1)\n",
    "\n",
    "# Create buttons\n",
    "free_button = widgets.Button(description='add free', button_style='success', layout=button_layout)\n",
    "blocked_button = widgets.Button(description='add blocked', button_style='danger', layout=button_layout)\n",
    "\n",
    "# Set button callbacks\n",
    "free_button.on_click(add_free_button_clicked)\n",
    "blocked_button.on_click(add_blocked_button_clicked)\n",
    "\n",
    "# Get initial counts\n",
    "initial_free_count = len(os.listdir(free_dir))\n",
    "initial_blocked_count = len(os.listdir(blocked_dir))\n",
    "\n",
    "# Create count widgets\n",
    "free_count = widgets.IntText(layout=button_layout, value=initial_free_count)\n",
    "blocked_count = widgets.IntText(layout=button_layout, value=initial_blocked_count)\n",
    "\n",
    "# Display widgets\n",
    "display(widgets.HBox([free_count, free_button]))\n",
    "display(widgets.HBox([blocked_count, blocked_button]))\n"
   ]
  },
  {
   "cell_type": "code",
   "execution_count": 9,
   "metadata": {},
   "outputs": [
    {
     "data": {
      "application/vnd.jupyter.widget-view+json": {
       "model_id": "2d77e753e37a4f718ea67c2a460a995c",
       "version_major": 2,
       "version_minor": 0
      },
      "text/plain": [
       "Image(value=b'', format='jpeg', height='224', width='224')"
      ]
     },
     "metadata": {},
     "output_type": "display_data"
    },
    {
     "data": {
      "application/vnd.jupyter.widget-view+json": {
       "model_id": "5129690d0dac4fcaab311873a961a948",
       "version_major": 2,
       "version_minor": 0
      },
      "text/plain": [
       "HBox(children=(IntText(value=0, layout=Layout(height='64px', width='128px')), Button(button_style='success', d…"
      ]
     },
     "metadata": {},
     "output_type": "display_data"
    },
    {
     "data": {
      "application/vnd.jupyter.widget-view+json": {
       "model_id": "e1cef948a100493ca8f821ac10a57244",
       "version_major": 2,
       "version_minor": 0
      },
      "text/plain": [
       "HBox(children=(IntText(value=0, layout=Layout(height='64px', width='128px')), Button(button_style='danger', de…"
      ]
     },
     "metadata": {},
     "output_type": "display_data"
    },
    {
     "data": {
      "application/vnd.jupyter.widget-view+json": {
       "model_id": "b042e22464b84e3c8e82d41958335823",
       "version_major": 2,
       "version_minor": 0
      },
      "text/plain": [
       "Button(button_style='info', description='Update Image', layout=Layout(height='64px', width='128px'), style=But…"
      ]
     },
     "metadata": {},
     "output_type": "display_data"
    }
   ],
   "source": [
    "def update_image_widget(b):\n",
    "    # Capture an image from the camera\n",
    "    ret, frame = camera.read()\n",
    "    if ret:\n",
    "        rotated_frame = cv2.rotate(frame, cv2.ROTATE_90_CLOCKWISE)\n",
    "        rotated_frame = cv2.rotate(rotated_frame, cv2.ROTATE_90_CLOCKWISE)\n",
    "\n",
    "        # Resize the frame\n",
    "        resized_frame = cv2.resize(rotated_frame, (width, height))\n",
    "        # Convert BGR to RGB (OpenCV uses BGR)\n",
    "        rgb_frame = cv2.cvtColor(resized_frame, cv2.COLOR_BGR2RGB)\n",
    "        # Convert to JPEG format\n",
    "        _, jpeg_frame = cv2.imencode('.jpeg', rgb_frame)\n",
    "        # Update the image widget\n",
    "        image_widget.value = jpeg_frame.tobytes()\n",
    "\n",
    "# Display the image widget\n",
    "display(image_widget)\n",
    "\n",
    "# Display the free and blocked count widgets and buttons\n",
    "display(widgets.HBox([free_count, free_button]))\n",
    "display(widgets.HBox([blocked_count, blocked_button]))\n",
    "\n",
    "# Add a button to update the image widget\n",
    "update_button = widgets.Button(description='Update Image', button_style='info', layout=button_layout)\n",
    "update_button.on_click(update_image_widget)\n",
    "display(update_button)\n"
   ]
  },
  {
   "cell_type": "code",
   "execution_count": 11,
   "metadata": {},
   "outputs": [],
   "source": [
    "camera.release()"
   ]
  },
  {
   "cell_type": "code",
   "execution_count": null,
   "metadata": {},
   "outputs": [],
   "source": []
  }
 ],
 "metadata": {
  "kernelspec": {
   "display_name": "Python 3 (ipykernel)",
   "language": "python",
   "name": "python3"
  },
  "language_info": {
   "codemirror_mode": {
    "name": "ipython",
    "version": 3
   },
   "file_extension": ".py",
   "mimetype": "text/x-python",
   "name": "python",
   "nbconvert_exporter": "python",
   "pygments_lexer": "ipython3",
   "version": "3.9.2"
  }
 },
 "nbformat": 4,
 "nbformat_minor": 4
}
